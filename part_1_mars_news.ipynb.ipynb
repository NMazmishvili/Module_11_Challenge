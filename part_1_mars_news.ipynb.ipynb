{
 "cells": [
  {
   "cell_type": "code",
   "execution_count": 1,
   "id": "a42ea59c-d7ed-4ef7-ad51-5d52209ab738",
   "metadata": {},
   "outputs": [],
   "source": [
    "from splinter import Browser\n",
    "from bs4 import BeautifulSoup"
   ]
  },
  {
   "cell_type": "code",
   "execution_count": 2,
   "id": "6317136d-07c8-4f55-8368-1ee38e6a402d",
   "metadata": {},
   "outputs": [],
   "source": [
    "browser = Browser('chrome')"
   ]
  },
  {
   "cell_type": "code",
   "execution_count": 3,
   "id": "a1f81ccd-a533-4506-a746-165dcb8ee2c6",
   "metadata": {},
   "outputs": [],
   "source": [
    "url = 'https://static.bc-edx.com/data/web/mars_news/index.html'\n",
    "browser.visit(url)"
   ]
  },
  {
   "cell_type": "code",
   "execution_count": 4,
   "id": "0cc99569-372e-4454-819b-69da8cc4f5c4",
   "metadata": {},
   "outputs": [],
   "source": [
    "html = browser.html\n",
    "soup = BeautifulSoup(html, 'html.parser')"
   ]
  },
  {
   "cell_type": "code",
   "execution_count": 5,
   "id": "e12e24d9-e264-4ee8-a530-aa8eaa40d107",
   "metadata": {},
   "outputs": [],
   "source": [
    "article_divs = soup.find_all(\"div\", class_=\"col-md-8\")"
   ]
  },
  {
   "cell_type": "code",
   "execution_count": 6,
   "id": "c3373024-d4cb-4892-9534-befa9795d8b6",
   "metadata": {},
   "outputs": [
    {
     "data": {
      "text/plain": [
       "[{'Title': \"NASA's MAVEN Observes Martian Light Show Caused by Major Solar Storm\",\n",
       "  'Summary': 'For the first time in its eight years orbiting Mars, NASA’s MAVEN mission witnessed two different types of ultraviolet aurorae simultaneously, the result of solar storms that began on Aug. 27.'},\n",
       " {'Title': \"NASA Prepares to Say 'Farewell' to InSight Spacecraft\",\n",
       "  'Summary': 'A closer look at what goes into wrapping up the mission as the spacecraft’s power supply continues to dwindle.'},\n",
       " {'Title': 'NASA and ESA Agree on Next Steps to Return Mars Samples to Earth',\n",
       "  'Summary': 'The agency’s Perseverance rover will establish the first sample depot on Mars.'},\n",
       " {'Title': \"NASA's InSight Lander Detects Stunning Meteoroid Impact on Mars\",\n",
       "  'Summary': 'The agency’s lander felt the ground shake during the impact while cameras aboard the Mars Reconnaissance Orbiter spotted the yawning new crater from space.'},\n",
       " {'Title': 'NASA To Host Briefing on InSight, Mars Reconnaissance Orbiter Findings',\n",
       "  'Summary': 'Scientists from two Mars missions will discuss how they combined images and data for a major finding on the Red Planet.'},\n",
       " {'Title': 'Why NASA Is Trying To Crash Land on Mars',\n",
       "  'Summary': 'Like a car’s crumple zone, the experimental SHIELD lander is designed to absorb a hard impact.'},\n",
       " {'Title': 'Curiosity Mars Rover Reaches Long-Awaited Salty Region',\n",
       "  'Summary': 'After years of climbing, the Mars rover has arrived at a special region believed to have formed as Mars’ climate was drying.'},\n",
       " {'Title': 'Mars Mission Shields Up for Tests',\n",
       "  'Summary': 'Protecting Mars Sample Return spacecraft from micrometeorites requires high-caliber work.'},\n",
       " {'Title': \"NASA's InSight Waits Out Dust Storm\",\n",
       "  'Summary': 'InSight’s team is taking steps to help the solar-powered lander continue operating for as long as possible.'},\n",
       " {'Title': \"NASA's InSight 'Hears' Its First Meteoroid Impacts on Mars\",\n",
       "  'Summary': 'The Mars lander’s seismometer has picked up vibrations from four separate impacts in the past two years.'},\n",
       " {'Title': \"NASA's Perseverance Rover Investigates Geologically Rich Mars Terrain\",\n",
       "  'Summary': 'The latest findings provide greater detail on a region of the Red Planet that has a watery past and is yielding promising samples for the NASA-ESA Mars Sample Return campaign.'},\n",
       " {'Title': 'NASA to Host Briefing on Perseverance Mars Rover Mission Operations',\n",
       "  'Summary': 'Members of the mission will discuss the rover’s activities as it gathers samples in an ancient river delta.'},\n",
       " {'Title': \"NASA's Perseverance Makes New Discoveries in Mars' Jezero Crater\",\n",
       "  'Summary': 'The rover found that Jezero Crater’s floor is made up of volcanic rocks that have interacted with water.'},\n",
       " {'Title': \"10 Years Since Landing, NASA's Curiosity Mars Rover Still Has Drive\",\n",
       "  'Summary': 'Despite signs of wear, the intrepid spacecraft is about to start an exciting new chapter of its mission as it climbs a Martian mountain.'},\n",
       " {'Title': \"SAM's Top 5 Discoveries Aboard NASA's Curiosity Rover at Mars\",\n",
       "  'Summary': '“Selfie” of the Curiosity rover with inset showing the SAM instrument prior to installation on the rover.'}]"
      ]
     },
     "execution_count": 6,
     "metadata": {},
     "output_type": "execute_result"
    }
   ],
   "source": [
    "article_previews = []\n",
    "\n",
    "for article in article_divs:\n",
    "    title = article.find(\"div\", class_=\"content_title\").text\n",
    "    preview_text = article.find(\"div\", class_=\"article_teaser_body\").text\n",
    "    article_summary = {\"Title\": title,\n",
    "                       \"Summary\": preview_text}\n",
    "    article_previews.append(article_summary)\n",
    "\n",
    "article_previews"
   ]
  },
  {
   "cell_type": "code",
   "execution_count": 7,
   "id": "dfef00d8-97b1-4888-98a7-34bfb15d71c5",
   "metadata": {},
   "outputs": [],
   "source": [
    "browser.quit()"
   ]
  },
  {
   "cell_type": "code",
   "execution_count": null,
   "id": "56f658c3-d8be-45b6-87f5-2e12703a8b6a",
   "metadata": {},
   "outputs": [],
   "source": []
  }
 ],
 "metadata": {
  "kernelspec": {
   "display_name": "Python 3 (ipykernel)",
   "language": "python",
   "name": "python3"
  },
  "language_info": {
   "codemirror_mode": {
    "name": "ipython",
    "version": 3
   },
   "file_extension": ".py",
   "mimetype": "text/x-python",
   "name": "python",
   "nbconvert_exporter": "python",
   "pygments_lexer": "ipython3",
   "version": "3.10.13"
  }
 },
 "nbformat": 4,
 "nbformat_minor": 5
}
